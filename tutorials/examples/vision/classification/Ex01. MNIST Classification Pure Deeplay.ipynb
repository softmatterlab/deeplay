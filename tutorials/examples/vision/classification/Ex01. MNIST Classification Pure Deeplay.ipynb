{
  "cells": [
    {
      "cell_type": "code",
      "execution_count": 1,
      "metadata": {},
      "outputs": [],
      "source": [
        "import sys\n",
        "sys.path.insert(0, \"../../../\")"
      ]
    },
    {
      "cell_type": "code",
      "execution_count": 2,
      "metadata": {},
      "outputs": [],
      "source": [
        "import deeplay as dl\n",
        "\n",
        "mnist_train = dl.datasets.MNIST(\"../../data\", download=True, train=True, backend=\"torch\")\n",
        "mnist_test = dl.datasets.MNIST(\"../../data\", download=True, train=False, backend=\"torch\")\n",
        "\n"
      ]
    },
    {
      "cell_type": "code",
      "execution_count": 3,
      "metadata": {},
      "outputs": [],
      "source": [
        "train_dataloader = dl.DataLoader(mnist_train, batch_size=32, shuffle=True)\n",
        "test_dataloader = dl.DataLoader(mnist_test, batch_size=32, shuffle=False)"
      ]
    },
    {
      "cell_type": "code",
      "execution_count": 4,
      "metadata": {},
      "outputs": [
        {
          "name": "stdout",
          "output_type": "stream",
          "text": [
            "MultiLayerPerceptron(\n",
            "  (in_features): 784\n",
            "  (hidden_dims): [32, 32]\n",
            "  (out_features): 10\n",
            "  (depth): 3\n",
            "  (blocks): ModuleList(\n",
            "    (0): Template(\n",
            "      (layer): Linear(in_features=784, out_features=32, bias=True)\n",
            "      (normalization): Identity()\n",
            "      (activation): ReLU()\n",
            "      (dropout): Identity()\n",
            "    )\n",
            "    (1): Template(\n",
            "      (layer): Linear(in_features=32, out_features=32, bias=True)\n",
            "      (normalization): Identity()\n",
            "      (activation): ReLU()\n",
            "      (dropout): Identity()\n",
            "    )\n",
            "  )\n",
            "  (out_layer): Linear(in_features=32, out_features=10, bias=True)\n",
            "  (out_activation): Identity()\n",
            ")\n"
          ]
        }
      ],
      "source": [
        "# OPTION 1\n",
        "mlp = dl.MultiLayerPerceptron(28*28, [32, 32], 10)\n",
        "\n",
        "# OPTION 2: \n",
        "mlp_config = (\n",
        "    dl.Config()\n",
        "    .in_features(28*28)\n",
        "    .hidden_dims([32, 32])\n",
        "    .out_features(10)\n",
        ")\n",
        "\n",
        "mlp = dl.MultiLayerPerceptron.from_config(mlp_config)\n",
        "print(mlp)"
      ]
    },
    {
      "cell_type": "code",
      "execution_count": 6,
      "metadata": {},
      "outputs": [],
      "source": [
        "# OPTION 1\n",
        "classifier = dl.Classifier(mlp)\n",
        "\n",
        "# OPTION 2\n",
        "classifier_config = (\n",
        "    dl.Config()\n",
        "    .model(dl.MultiLayerPerceptron, mlp_config)\n",
        ")\n",
        "classifier = dl.Classifier.from_config(classifier_config)\n",
        "\n",
        "# OPTION 3\n",
        "classifier_config = (\n",
        "    dl.Config()\n",
        "    .model(dl.MultiLayerPerceptron, in_features=28*28, hidden_dims=[32, 32], out_features=10)\n",
        ")\n",
        "classifier = dl.Classifier.from_config(classifier_config)\n",
        "\n",
        "# OPTION 4\n",
        "class Classifier(dl.Application):\n",
        "\n",
        "    def __init__(self, model):\n",
        "        super().__init__()\n",
        "        self.model = model\n",
        "\n",
        "    def forward(self, x):\n",
        "        return self.model(x)\n",
        "    \n",
        "    def training_step(self, batch, batch_idx):\n",
        "        x, y = batch\n",
        "        y_hat = self(x)\n",
        "        \n",
        "        # Compute loss\n",
        "        # very hard without torch. \n",
        "        loss = ...\n",
        "\n",
        "        return loss    "
      ]
    },
    {
      "cell_type": "code",
      "execution_count": null,
      "metadata": {},
      "outputs": [],
      "source": [
        "mlp = dl.MultiLayerPerceptron(28*28, [32, 32], 10)\n",
        "classifier = Classifier(mlp)\n",
        "trainer = dl.Trainer(max_epochs=10, accelerator=\"auto\")\n",
        "trainer.fit(classifier, train_dataloader)"
      ]
    },
    {
      "cell_type": "code",
      "execution_count": null,
      "metadata": {},
      "outputs": [],
      "source": [
        "trainer.test(classifier, test_dataloader)"
      ]
    }
  ],
  "metadata": {
    "kernelspec": {
      "display_name": "Python 3",
      "language": "python",
      "name": "python3"
    },
    "language_info": {
      "codemirror_mode": {
        "name": "ipython",
        "version": 3
      },
      "file_extension": ".py",
      "mimetype": "text/x-python",
      "name": "python",
      "nbconvert_exporter": "python",
      "pygments_lexer": "ipython3",
      "version": "3.10.7"
    },
    "orig_nbformat": 4
  },
  "nbformat": 4,
  "nbformat_minor": 2
}
