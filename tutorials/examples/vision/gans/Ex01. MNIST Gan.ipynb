{
  "cells": [
    {
      "cell_type": "code",
      "execution_count": 1,
      "metadata": {},
      "outputs": [],
      "source": [
        "import sys\n",
        "sys.path.insert(0, \"../../../\")"
      ]
    },
    {
      "cell_type": "code",
      "execution_count": 2,
      "metadata": {},
      "outputs": [],
      "source": [
        "import deeplay as dl\n",
        "import torchvision.transforms as transforms\n",
        "\n",
        "import torch\n",
        "import torch.nn as nn\n",
        "import torchvision\n",
        "import lightning as L"
      ]
    },
    {
      "cell_type": "code",
      "execution_count": 3,
      "metadata": {},
      "outputs": [],
      "source": [
        "# Load the MNIST dataset and normalize it to [-1, 1]\n",
        "\n",
        "mnist = torchvision.datasets.MNIST(\n",
        "    root=\"../../data\", train=True, download=True, transform=torchvision.transforms.ToTensor()\n",
        ")\n",
        "\n",
        "mnist_test = torchvision.datasets.MNIST(\n",
        "    root=\"../../data\", train=False, download=True, transform=torchvision.transforms.ToTensor()\n",
        ")"
      ]
    },
    {
      "cell_type": "code",
      "execution_count": 4,
      "metadata": {},
      "outputs": [],
      "source": [
        "mnist_dataloader = torch.utils.data.DataLoader(mnist, batch_size=32, num_workers=4)\n",
        "mnist_test_dataloader = torch.utils.data.DataLoader(mnist_test, batch_size=32, num_workers=4)"
      ]
    },
    {
      "cell_type": "code",
      "execution_count": 10,
      "metadata": {},
      "outputs": [
        {
          "data": {
            "text/plain": [
              "VanillaGAN(\n",
              "  (hidden_dim): 10\n",
              "  (generator): Template(\n",
              "    (backbone): SpatialBroadcastDecoder2d(\n",
              "      (depth): 4\n",
              "      (output_size): torch.Size([28, 28])\n",
              "      (input): Identity()\n",
              "      (encoding): PositionalEncodingLinear2d()\n",
              "      (blocks): ModuleList(\n",
              "        (0): Template(\n",
              "          (layer): Conv2d(12, 128, kernel_size=(3, 3), stride=(1, 1), padding=(1, 1))\n",
              "          (activation): ReLU()\n",
              "        )\n",
              "        (1): Template(\n",
              "          (layer): Conv2d(128, 128, kernel_size=(3, 3), stride=(1, 1), padding=(1, 1))\n",
              "          (activation): ReLU()\n",
              "        )\n",
              "        (2): Template(\n",
              "          (layer): Conv2d(128, 128, kernel_size=(3, 3), stride=(1, 1), padding=(1, 1))\n",
              "          (activation): ReLU()\n",
              "        )\n",
              "        (3): Template(\n",
              "          (layer): Conv2d(128, 128, kernel_size=(3, 3), stride=(1, 1), padding=(1, 1))\n",
              "          (activation): ReLU()\n",
              "        )\n",
              "      )\n",
              "    )\n",
              "    (head): ImageRegressionHead(\n",
              "      (num_outputs): 1\n",
              "      (output): Template(\n",
              "        (layer): Conv2d(128, 1, kernel_size=(1, 1), stride=(1, 1))\n",
              "        (activation): Identity()\n",
              "      )\n",
              "    )\n",
              "  )\n",
              "  (discriminator): ImageClassifier(\n",
              "    (num_classes): 1\n",
              "    (backbone): ImageToVectorEncoder(\n",
              "      (depth): 3\n",
              "      (blocks): ModuleList(\n",
              "        (0): Template(\n",
              "          (layer): Conv2d(1, 64, kernel_size=(3, 3), stride=(1, 1), padding=(1, 1))\n",
              "          (activation): ReLU()\n",
              "          (pool): MaxPool2d(kernel_size=2, stride=2, padding=0, dilation=1, ceil_mode=False)\n",
              "        )\n",
              "        (1): Template(\n",
              "          (layer): Conv2d(64, 128, kernel_size=(3, 3), stride=(1, 1), padding=(1, 1))\n",
              "          (activation): ReLU()\n",
              "          (pool): MaxPool2d(kernel_size=2, stride=2, padding=0, dilation=1, ceil_mode=False)\n",
              "        )\n",
              "        (2): Template(\n",
              "          (layer): Conv2d(128, 256, kernel_size=(3, 3), stride=(1, 1), padding=(1, 1))\n",
              "          (activation): ReLU()\n",
              "          (pool): MaxPool2d(kernel_size=2, stride=2, padding=0, dilation=1, ceil_mode=False)\n",
              "        )\n",
              "      )\n",
              "      (output): Flatten(start_dim=1, end_dim=-1)\n",
              "    )\n",
              "    (head): CategoricalClassificationHead(\n",
              "      (num_classes): 1\n",
              "      (output): Template(\n",
              "        (layer): Linear(in_features=2304, out_features=1, bias=True)\n",
              "        (activation): Sigmoid()\n",
              "      )\n",
              "    )\n",
              "    (loss): UninitializedModule()\n",
              "    (val_accuracy): Accuracy()\n",
              "  )\n",
              "  (discriminator_loss): MSELoss()\n",
              "  (generator_loss): MSELoss()\n",
              ")"
            ]
          },
          "execution_count": 10,
          "metadata": {},
          "output_type": "execute_result"
        }
      ],
      "source": [
        "gan  = dl.VanillaGAN.from_config(\n",
        "    dl.Config()\n",
        "    .hidden_dim(10)\n",
        "    .discriminator.backbone.depth(3)\n",
        "    .discriminator.backbone.blocks.populate(\"layer.out_channels\", [64, 128, 256])\n",
        "    .generator.backbone.generator.depth(3)\n",
        "    .generator.backbone.blocks.layer(kernel_size=3, padding=1)\n",
        "    .generator.head.output.activation(nn.Identity)\n",
        ")\n",
        "gan.discriminator(torch.randn(1, 1, 28, 28))\n",
        "gan()\n",
        "gan"
      ]
    },
    {
      "cell_type": "code",
      "execution_count": 3,
      "metadata": {},
      "outputs": [
        {
          "data": {
            "text/plain": [
              "6"
            ]
          },
          "execution_count": 3,
          "metadata": {},
          "output_type": "execute_result"
        }
      ],
      "source": [
        "def func(a, /, b, c):\n",
        "    return a + b + c\n",
        "\n",
        "args = [1, 2, 3]\n",
        "kwargs = {}\n",
        "func(*args, **kwargs)"
      ]
    },
    {
      "cell_type": "code",
      "execution_count": 11,
      "metadata": {},
      "outputs": [
        {
          "name": "stderr",
          "output_type": "stream",
          "text": [
            "GPU available: True (cuda), used: True\n",
            "TPU available: False, using: 0 TPU cores\n",
            "IPU available: False, using: 0 IPUs\n",
            "HPU available: False, using: 0 HPUs\n",
            "c:\\Users\\GU\\AppData\\Local\\Programs\\Python\\Python310\\lib\\site-packages\\lightning\\trainer\\configuration_validator.py:108: PossibleUserWarning: You defined a `validation_step` but have no `val_dataloader`. Skipping val loop.\n",
            "  rank_zero_warn(\n",
            "LOCAL_RANK: 0 - CUDA_VISIBLE_DEVICES: [0]\n",
            "\n",
            "  | Name               | Type            | Params\n",
            "-------------------------------------------------------\n",
            "0 | generator          | Template        | 456 K \n",
            "1 | discriminator      | ImageClassifier | 371 K \n",
            "2 | discriminator_loss | MSELoss         | 0     \n",
            "3 | generator_loss     | MSELoss         | 0     \n",
            "-------------------------------------------------------\n",
            "828 K     Trainable params\n",
            "0         Non-trainable params\n",
            "828 K     Total params\n",
            "3.315     Total estimated model params size (MB)\n"
          ]
        },
        {
          "data": {
            "application/vnd.jupyter.widget-view+json": {
              "model_id": "f5ec85dd7ead4166b28ed5fd00c588ad",
              "version_major": 2,
              "version_minor": 0
            },
            "text/plain": [
              "Training: 0it [00:00, ?it/s]"
            ]
          },
          "metadata": {},
          "output_type": "display_data"
        },
        {
          "name": "stderr",
          "output_type": "stream",
          "text": [
            "`Trainer.fit` stopped: `max_epochs=10` reached.\n"
          ]
        }
      ],
      "source": [
        "\n",
        "trainer = L.Trainer(max_epochs=10, accelerator=\"cuda\")\n",
        "trainer.fit(gan, mnist_dataloader)"
      ]
    },
    {
      "cell_type": "code",
      "execution_count": 9,
      "metadata": {},
      "outputs": [
        {
          "data": {
            "image/png": "[encoded data removed]",
            "text/plain": [
              "<Figure size 1000x1000 with 100 Axes>"
            ]
          },
          "metadata": {},
          "output_type": "display_data"
        }
      ],
      "source": [
        "\n",
        "# plot a grid of generated images\n",
        "import matplotlib.pyplot as plt\n",
        "import numpy as np\n",
        "\n",
        "n = 10\n",
        "plt.figure(figsize=(10, 10))\n",
        "for i in range(n ** 2):\n",
        "    plt.subplot(n, n, i + 1)\n",
        "    plt.imshow(gan()[0].detach().cpu().numpy().transpose((1, 2, 0)), cmap=\"Greys\", vmin=0, vmax=1)\n",
        "    plt.axis(\"off\")\n",
        "\n",
        "plt.tight_layout()\n",
        "plt.show()"
      ]
    },
    {
      "cell_type": "code",
      "execution_count": null,
      "metadata": {},
      "outputs": [],
      "source": [
        "emb = gan.generator.backbone.encoding.encoding(torch.randn(1, 1, 28, 28))"
      ]
    },
    {
      "cell_type": "code",
      "execution_count": null,
      "metadata": {},
      "outputs": [
        {
          "data": {
            "text/plain": [
              "<matplotlib.image.AxesImage at 0x2a4577a7a60>"
            ]
          },
          "execution_count": 17,
          "metadata": {},
          "output_type": "execute_result"
        },
        {
          "data": {
            "image/png": "[encoded data removed]",
            "text/plain": [
              "<Figure size 640x480 with 1 Axes>"
            ]
          },
          "metadata": {},
          "output_type": "display_data"
        }
      ],
      "source": [
        "import matplotlib.pyplot as plt\n",
        "plt.imshow(emb[0, :, 0, :].detach().cpu().numpy(), cmap=\"Greys_r\", vmin=0, vmax=1)"
      ]
    },
    {
      "cell_type": "code",
      "execution_count": null,
      "metadata": {},
      "outputs": [],
      "source": []
    }
  ],
  "metadata": {
    "kernelspec": {
      "display_name": "Python 3 (ipykernel)",
      "language": "python",
      "name": "python3"
    },
    "language_info": {
      "codemirror_mode": {
        "name": "ipython",
        "version": 3
      },
      "file_extension": ".py",
      "mimetype": "text/x-python",
      "name": "python",
      "nbconvert_exporter": "python",
      "pygments_lexer": "ipython3",
      "version": "3.10.5"
    }
  },
  "nbformat": 4,
  "nbformat_minor": 2
}
