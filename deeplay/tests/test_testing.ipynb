{
 "cells": [
  {
   "cell_type": "code",
   "execution_count": 1,
   "metadata": {},
   "outputs": [],
   "source": [
    "import torch"
   ]
  },
  {
   "cell_type": "code",
   "execution_count": 2,
   "metadata": {},
   "outputs": [
    {
     "name": "stdout",
     "output_type": "stream",
     "text": [
      "c:\\Users/xgrmir/Documents/Deeplay/deeplay\\deeplay\\__init__.py\n"
     ]
    }
   ],
   "source": [
    "import sys\n",
    "\n",
    "sys.path.insert(0, '/Users/xgrmir/Documents/Deeplay/deeplay')\n",
    "\n",
    "import deeplay as dl\n",
    "print(dl.__file__)"
   ]
  },
  {
   "cell_type": "code",
   "execution_count": 3,
   "metadata": {},
   "outputs": [],
   "source": [
    "from deeplay import (\n",
    "    GraphConvolutionalNeuralNetwork,\n",
    "    GraphToGlobalMPM,\n",
    "    GraphToNodeMPM,\n",
    "    GraphToEdgeMPM,\n",
    "    GraphToEdgeMAGIK,\n",
    "    MessagePassingNeuralNetwork,\n",
    "    ResidualMessagePassingNeuralNetwork,\n",
    "    MultiLayerPerceptron,\n",
    "    dense_laplacian_normalization,\n",
    "    Sum,\n",
    "    WeightedSum,\n",
    "    Mean,\n",
    "    Prod,\n",
    "    Min,\n",
    "    Max,\n",
    "    Layer,\n",
    "    GlobalMeanPool,\n",
    "    GlobalGraphPooling,\n",
    "    GlobalGraphUpsampling,\n",
    "    MinCutPooling,\n",
    "    MinCutUpsampling,\n",
    "    GraphEncoder,\n",
    "    GraphDecoder,\n",
    "    GraphEncoderBlock,\n",
    "    GraphDecoderBlock,\n",
    ")"
   ]
  },
  {
   "cell_type": "markdown",
   "metadata": {},
   "source": [
    "## Global pool"
   ]
  },
  {
   "cell_type": "code",
   "execution_count": 4,
   "metadata": {},
   "outputs": [],
   "source": [
    "global_pool = GlobalGraphPooling()\n",
    "global_pool = global_pool.build()"
   ]
  },
  {
   "cell_type": "code",
   "execution_count": 5,
   "metadata": {},
   "outputs": [],
   "source": [
    "inp = {}\n",
    "inp[\"x\"] = torch.randn(3, 2)\n",
    "inp[\"batch\"] = torch.zeros(3, dtype=int)\n",
    "inp[\"edge_index\"] = torch.tensor([[0, 1, 1, 2, 1], [1, 0, 2, 1, 0]])\n",
    "out = global_pool(inp)"
   ]
  },
  {
   "cell_type": "code",
   "execution_count": 6,
   "metadata": {},
   "outputs": [
    {
     "data": {
      "text/plain": [
       "{'x': tensor([[ 1.6337, -1.7212]]),\n",
       " 'batch': tensor([0]),\n",
       " 'edge_index': tensor([[0, 1, 1, 2, 1],\n",
       "         [1, 0, 2, 1, 0]]),\n",
       " 's': tensor([[1.],\n",
       "         [1.],\n",
       "         [1.]])}"
      ]
     },
     "execution_count": 6,
     "metadata": {},
     "output_type": "execute_result"
    }
   ],
   "source": [
    "out"
   ]
  },
  {
   "cell_type": "code",
   "execution_count": 7,
   "metadata": {},
   "outputs": [
    {
     "data": {
      "text/plain": [
       "torch.Size([1, 2])"
      ]
     },
     "execution_count": 7,
     "metadata": {},
     "output_type": "execute_result"
    }
   ],
   "source": [
    "out['x'].shape"
   ]
  },
  {
   "cell_type": "code",
   "execution_count": 8,
   "metadata": {},
   "outputs": [
    {
     "data": {
      "text/plain": [
       "torch.Size([3, 1])"
      ]
     },
     "execution_count": 8,
     "metadata": {},
     "output_type": "execute_result"
    }
   ],
   "source": [
    "out['s'].shape"
   ]
  },
  {
   "cell_type": "code",
   "execution_count": 9,
   "metadata": {},
   "outputs": [],
   "source": [
    "global_upsampling = GlobalGraphUpsampling()\n",
    "global_upsampling = global_upsampling.build()"
   ]
  },
  {
   "cell_type": "code",
   "execution_count": 10,
   "metadata": {},
   "outputs": [],
   "source": [
    "inp = {}\n",
    "inp[\"x\"] = torch.randn(1, 2)\n",
    "inp[\"s\"] = torch.ones((3,1))\n",
    "out = global_upsampling(inp)"
   ]
  },
  {
   "cell_type": "code",
   "execution_count": 11,
   "metadata": {},
   "outputs": [
    {
     "data": {
      "text/plain": [
       "torch.Size([3, 2])"
      ]
     },
     "execution_count": 11,
     "metadata": {},
     "output_type": "execute_result"
    }
   ],
   "source": [
    "out['x'].shape"
   ]
  },
  {
   "cell_type": "markdown",
   "metadata": {},
   "source": [
    "## Mincut"
   ]
  },
  {
   "cell_type": "code",
   "execution_count": 46,
   "metadata": {},
   "outputs": [],
   "source": [
    "mincut = MinCutPooling(num_clusters = 2, hidden_features = [5])\n",
    "mincut = mincut.build()"
   ]
  },
  {
   "cell_type": "code",
   "execution_count": 47,
   "metadata": {},
   "outputs": [
    {
     "data": {
      "text/plain": [
       "MinCutPooling(\n",
       "  (select): MultiLayerPerceptron(\n",
       "    (blocks): LayerList(\n",
       "      (0): LinearBlock(\n",
       "        (layer): LazyLinear(in_features=0, out_features=5, bias=True)\n",
       "        (activation): ReLU()\n",
       "      )\n",
       "      (1): LinearBlock(\n",
       "        (layer): Linear(in_features=5, out_features=2, bias=True)\n",
       "        (activation): Softmax(dim=1)\n",
       "      )\n",
       "    )\n",
       "  )\n",
       "  (batch_compatible): ClusterMatrixForBatch()\n",
       "  (mincut_loss): MinCutLoss()\n",
       "  (reduce): Reduce()\n",
       "  (connect): Connect()\n",
       "  (red_self_con): ReduceSelfConnection()\n",
       "  (sparse): SparseEdgeIndex()\n",
       ")"
      ]
     },
     "execution_count": 47,
     "metadata": {},
     "output_type": "execute_result"
    }
   ],
   "source": [
    "mincut"
   ]
  },
  {
   "cell_type": "code",
   "execution_count": 48,
   "metadata": {},
   "outputs": [],
   "source": [
    "inp = {}\n",
    "inp[\"x\"] = torch.randn(3, 1)\n",
    "inp[\"batch\"] = torch.zeros(3, dtype=int)\n",
    "inp[\"edge_index\"] = torch.tensor([[0, 1, 1, 2, 1], [1, 0, 2, 1, 0]])\n",
    "out = mincut(inp)"
   ]
  },
  {
   "cell_type": "code",
   "execution_count": 49,
   "metadata": {},
   "outputs": [
    {
     "data": {
      "text/plain": [
       "{'x': tensor([[-1.4034],\n",
       "         [-1.7131]], grad_fn=<MmBackward0>),\n",
       " 'batch': tensor([0, 0]),\n",
       " 'edge_index': tensor(indices=tensor([[0, 1],\n",
       "                        [1, 0]]),\n",
       "        values=tensor([0.1269, 0.1285]),\n",
       "        size=(2, 2), nnz=2, layout=torch.sparse_coo, grad_fn=<ToSparseBackward1>),\n",
       " 's': tensor([[0.4595, 0.5405],\n",
       "         [0.4439, 0.5561],\n",
       "         [0.4480, 0.5520]], grad_fn=<ViewBackward0>),\n",
       " 'L_cut': tensor(-1.0003, grad_fn=<DivBackward0>),\n",
       " 'L_ortho': tensor(0.7652, grad_fn=<LinalgVectorNormBackward0>)}"
      ]
     },
     "execution_count": 49,
     "metadata": {},
     "output_type": "execute_result"
    }
   ],
   "source": [
    "out"
   ]
  },
  {
   "cell_type": "code",
   "execution_count": 50,
   "metadata": {},
   "outputs": [
    {
     "data": {
      "text/plain": [
       "torch.Size([3, 2])"
      ]
     },
     "execution_count": 50,
     "metadata": {},
     "output_type": "execute_result"
    }
   ],
   "source": [
    "out['s'].shape"
   ]
  },
  {
   "cell_type": "code",
   "execution_count": 54,
   "metadata": {},
   "outputs": [
    {
     "data": {
      "text/plain": [
       "tensor([1., 1., 1.], grad_fn=<SumBackward1>)"
      ]
     },
     "execution_count": 54,
     "metadata": {},
     "output_type": "execute_result"
    }
   ],
   "source": [
    "torch.sum(out['s'], axis=1)"
   ]
  },
  {
   "cell_type": "code",
   "execution_count": 17,
   "metadata": {},
   "outputs": [
    {
     "data": {
      "text/plain": [
       "tensor(indices=tensor([[0, 1],\n",
       "                       [1, 0]]),\n",
       "       values=tensor([0.1209, 0.1388]),\n",
       "       size=(2, 2), nnz=2, layout=torch.sparse_coo, grad_fn=<ToSparseBackward1>)"
      ]
     },
     "execution_count": 17,
     "metadata": {},
     "output_type": "execute_result"
    }
   ],
   "source": [
    "out['edge_index']"
   ]
  },
  {
   "cell_type": "markdown",
   "metadata": {},
   "source": [
    "Add test on different configurations with the layers in MinCut?"
   ]
  },
  {
   "cell_type": "code",
   "execution_count": 18,
   "metadata": {},
   "outputs": [],
   "source": [
    "mincut_upsample = MinCutUpsampling()\n",
    "mincut_upsample = mincut_upsample.build()"
   ]
  },
  {
   "cell_type": "code",
   "execution_count": 19,
   "metadata": {},
   "outputs": [],
   "source": [
    "inp = {}\n",
    "inp[\"x\"] = torch.randn(2, 1)\n",
    "inp[\"batch\"] = torch.zeros(2, dtype=int)\n",
    "inp['s'] = torch.tensor([\n",
    "    [1.0, 0],\n",
    "    [0, 1.0],\n",
    "    [1.0, 0]\n",
    "])\n",
    "inp[\"edge_index_pool\"] = torch.tensor([[0, 1], [1, 0]])\n",
    "out = mincut_upsample(inp)"
   ]
  },
  {
   "cell_type": "code",
   "execution_count": 20,
   "metadata": {},
   "outputs": [
    {
     "data": {
      "text/plain": [
       "{'x': tensor([[1.3595],\n",
       "         [0.2606],\n",
       "         [1.3595]]),\n",
       " 'batch': tensor([0, 0]),\n",
       " 's': tensor([[1., 0.],\n",
       "         [0., 1.],\n",
       "         [1., 0.]]),\n",
       " 'edge_index_pool': tensor([[0, 1],\n",
       "         [1, 0]]),\n",
       " 'edge_index': tensor([[0., 1., 0.],\n",
       "         [1., 0., 1.],\n",
       "         [0., 1., 0.]])}"
      ]
     },
     "execution_count": 20,
     "metadata": {},
     "output_type": "execute_result"
    }
   ],
   "source": [
    "out"
   ]
  },
  {
   "cell_type": "code",
   "execution_count": 21,
   "metadata": {},
   "outputs": [
    {
     "data": {
      "text/plain": [
       "tensor([[0., 1., 0.],\n",
       "        [1., 0., 1.],\n",
       "        [0., 1., 0.]])"
      ]
     },
     "execution_count": 21,
     "metadata": {},
     "output_type": "execute_result"
    }
   ],
   "source": [
    "out['edge_index']"
   ]
  },
  {
   "cell_type": "code",
   "execution_count": 22,
   "metadata": {},
   "outputs": [],
   "source": [
    "a_pool = torch.tensor([[0, 1], [1, 0]])"
   ]
  },
  {
   "cell_type": "code",
   "execution_count": 23,
   "metadata": {},
   "outputs": [],
   "source": [
    "s = torch.tensor([\n",
    "    [1, 0],\n",
    "    [0, 1],\n",
    "    [0.8, 0.2]\n",
    "])"
   ]
  },
  {
   "cell_type": "code",
   "execution_count": 24,
   "metadata": {},
   "outputs": [],
   "source": [
    "a_pool = torch.sparse_coo_tensor(\n",
    "                        a_pool,\n",
    "                        torch.ones(a_pool.size(1)),\n",
    "                        ((s.T).size(0),) * 2,\n",
    "                        device=a_pool.device,\n",
    "                    )\n",
    "a = torch.spmm(a_pool, s.T)"
   ]
  },
  {
   "cell_type": "code",
   "execution_count": 25,
   "metadata": {},
   "outputs": [
    {
     "data": {
      "text/plain": [
       "tensor(indices=tensor([[0, 1],\n",
       "                       [1, 0]]),\n",
       "       values=tensor([1., 1.]),\n",
       "       size=(2, 2), nnz=2, layout=torch.sparse_coo)"
      ]
     },
     "execution_count": 25,
     "metadata": {},
     "output_type": "execute_result"
    }
   ],
   "source": [
    "a_pool"
   ]
  },
  {
   "cell_type": "code",
   "execution_count": 26,
   "metadata": {},
   "outputs": [
    {
     "data": {
      "text/plain": [
       "tensor([[0.0000, 1.0000, 0.2000],\n",
       "        [1.0000, 0.0000, 0.8000]])"
      ]
     },
     "execution_count": 26,
     "metadata": {},
     "output_type": "execute_result"
    }
   ],
   "source": [
    "a"
   ]
  },
  {
   "cell_type": "code",
   "execution_count": 27,
   "metadata": {},
   "outputs": [
    {
     "data": {
      "text/plain": [
       "tensor([[1.0000, 0.0000, 0.8000],\n",
       "        [0.0000, 1.0000, 0.2000]])"
      ]
     },
     "execution_count": 27,
     "metadata": {},
     "output_type": "execute_result"
    }
   ],
   "source": [
    "s.T"
   ]
  },
  {
   "cell_type": "code",
   "execution_count": 28,
   "metadata": {},
   "outputs": [],
   "source": [
    "mincut = MinCutPooling(num_clusters=2, hidden_features=[5], reduce_self_connection=False)\n",
    "mincut = mincut.build()"
   ]
  },
  {
   "cell_type": "code",
   "execution_count": 29,
   "metadata": {},
   "outputs": [],
   "source": [
    "inp = {}\n",
    "inp[\"x\"] = torch.randn(3, 1)\n",
    "inp[\"batch\"] = torch.zeros(3, dtype=int)\n",
    "inp[\"edge_index\"] = torch.tensor([[0, 1, 1, 2], [1, 0, 2, 1]])\n",
    "out = mincut(inp)"
   ]
  },
  {
   "cell_type": "code",
   "execution_count": 30,
   "metadata": {},
   "outputs": [
    {
     "data": {
      "text/plain": [
       "{'x': tensor([[0.9204],\n",
       "         [1.3934]], grad_fn=<MmBackward0>),\n",
       " 'batch': tensor([0, 0]),\n",
       " 'edge_index': tensor(indices=tensor([[0, 0, 1, 1],\n",
       "                        [0, 1, 0, 1]]),\n",
       "        values=tensor([0.6270, 0.9567, 0.9567, 1.4596]),\n",
       "        size=(2, 2), nnz=4, layout=torch.sparse_coo, grad_fn=<ToSparseBackward1>),\n",
       " 's': tensor([[0.3918, 0.6082],\n",
       "         [0.3950, 0.6050],\n",
       "         [0.4019, 0.5981]], grad_fn=<ViewBackward0>),\n",
       " 'L_cut': tensor(-0.9999, grad_fn=<DivBackward0>),\n",
       " 'L_ortho': tensor(0.7653, grad_fn=<LinalgVectorNormBackward0>)}"
      ]
     },
     "execution_count": 30,
     "metadata": {},
     "output_type": "execute_result"
    }
   ],
   "source": [
    "out"
   ]
  },
  {
   "cell_type": "markdown",
   "metadata": {},
   "source": [
    "## Graph Encoder and decoder"
   ]
  },
  {
   "cell_type": "markdown",
   "metadata": {},
   "source": [
    "#### blocks"
   ]
  },
  {
   "cell_type": "code",
   "execution_count": 31,
   "metadata": {},
   "outputs": [],
   "source": [
    "encoder_block = GraphEncoderBlock(in_features=1, out_features=4, num_clusters=2)\n",
    "encoder_block = encoder_block.build()"
   ]
  },
  {
   "cell_type": "code",
   "execution_count": 32,
   "metadata": {},
   "outputs": [
    {
     "data": {
      "text/plain": [
       "GraphEncoderBlock(\n",
       "  (gcn): GraphConvolutionalNeuralNetwork(\n",
       "    (normalize): sparse_laplacian_normalization()\n",
       "    (blocks): LayerList(\n",
       "      (0): TransformPropagateUpdate(\n",
       "        (transform): Linear(in_features=1, out_features=4, bias=True)\n",
       "        (propagate): Propagate()\n",
       "        (update): ReLU()\n",
       "      )\n",
       "    )\n",
       "  )\n",
       "  (pool): MinCutPooling(\n",
       "    (select): MultiLayerPerceptron(\n",
       "      (blocks): LayerList(\n",
       "        (0): LinearBlock(\n",
       "          (layer): LazyLinear(in_features=0, out_features=4, bias=True)\n",
       "          (activation): ReLU()\n",
       "        )\n",
       "        (1): LinearBlock(\n",
       "          (layer): Linear(in_features=4, out_features=2, bias=True)\n",
       "          (activation): Softmax(dim=1)\n",
       "        )\n",
       "      )\n",
       "    )\n",
       "    (batch_compatible): ClusterMatrixForBatch()\n",
       "    (mincut_loss): MinCutLoss()\n",
       "    (reduce): Reduce()\n",
       "    (connect): Connect()\n",
       "    (red_self_con): ReduceSelfConnection()\n",
       "    (sparse): SparseEdgeIndex()\n",
       "  )\n",
       ")"
      ]
     },
     "execution_count": 32,
     "metadata": {},
     "output_type": "execute_result"
    }
   ],
   "source": [
    "encoder_block"
   ]
  },
  {
   "cell_type": "code",
   "execution_count": 33,
   "metadata": {},
   "outputs": [],
   "source": [
    "inp = {}\n",
    "inp[\"x\"] = torch.randn(3, 1)\n",
    "inp[\"batch\"] = torch.zeros(3, dtype=int)\n",
    "inp[\"edge_index\"] = torch.tensor([[0, 1, 1, 2], [1, 0, 2, 1]])\n",
    "out = encoder_block(inp)"
   ]
  },
  {
   "cell_type": "code",
   "execution_count": 34,
   "metadata": {},
   "outputs": [
    {
     "data": {
      "text/plain": [
       "{'x': tensor([[0.4139, 0.0000, 1.0564, 1.0303],\n",
       "         [0.1099, 0.0000, 0.2809, 0.2738]], grad_fn=<MmBackward0>),\n",
       " 'batch': tensor([0, 0]),\n",
       " 'edge_index': tensor([[0, 1, 1, 2],\n",
       "         [1, 0, 2, 1]]),\n",
       " 'laplacian': tensor(indices=tensor([[0, 0, 1, 1, 1, 2, 2],\n",
       "                        [0, 1, 0, 1, 2, 1, 2]]),\n",
       "        values=tensor([0.5000, 0.4082, 0.4082, 0.3333, 0.4082, 0.4082, 0.5000]),\n",
       "        size=(3, 3), nnz=7, layout=torch.sparse_coo),\n",
       " 's': tensor([[0.7871, 0.2129],\n",
       "         [0.7905, 0.2095],\n",
       "         [0.7918, 0.2082]], grad_fn=<ViewBackward0>),\n",
       " 'L_cut': tensor(-1.0000, grad_fn=<DivBackward0>),\n",
       " 'L_ortho': tensor(0.7654, grad_fn=<LinalgVectorNormBackward0>),\n",
       " 'edge_index_pool': tensor(indices=tensor([[0, 1],\n",
       "                        [1, 0]]),\n",
       "        values=tensor([0.0838, 0.0838]),\n",
       "        size=(2, 2), nnz=2, layout=torch.sparse_coo, grad_fn=<ToSparseBackward1>)}"
      ]
     },
     "execution_count": 34,
     "metadata": {},
     "output_type": "execute_result"
    }
   ],
   "source": [
    "out"
   ]
  },
  {
   "cell_type": "code",
   "execution_count": 35,
   "metadata": {},
   "outputs": [
    {
     "data": {
      "text/plain": [
       "torch.Size([3, 2])"
      ]
     },
     "execution_count": 35,
     "metadata": {},
     "output_type": "execute_result"
    }
   ],
   "source": [
    "out['s'].shape"
   ]
  },
  {
   "cell_type": "code",
   "execution_count": 36,
   "metadata": {},
   "outputs": [],
   "source": [
    "decoder_block = GraphDecoderBlock(in_features=1, out_features=4)\n",
    "decoder_block = decoder_block.build()\n",
    "\n",
    "inp = {}\n",
    "inp[\"x\"] = torch.randn(2, 1)\n",
    "inp[\"batch\"] = torch.zeros(2, dtype=int)\n",
    "inp[\"edge_index_pool\"] = torch.tensor([[0, 1], [1, 0]])\n",
    "inp[\"edge_index\"] = torch.tensor([[0, 1, 1, 2], [1, 0, 2, 1]])\n",
    "inp['s'] = torch.tensor([\n",
    "    [1.0, 0],\n",
    "    [0, 1.0],\n",
    "    [1.0, 0]\n",
    "])\n",
    "out = decoder_block(inp)"
   ]
  },
  {
   "cell_type": "code",
   "execution_count": 37,
   "metadata": {},
   "outputs": [
    {
     "data": {
      "text/plain": [
       "{'x': tensor([[0.0000, 0.0000, 0.4061, 0.0000],\n",
       "         [0.0000, 0.0000, 0.5079, 0.0000],\n",
       "         [0.0000, 0.0000, 0.4061, 0.0000]], grad_fn=<ReluBackward0>),\n",
       " 'batch': tensor([0, 0]),\n",
       " 'edge_index_pool': tensor([[0, 1],\n",
       "         [1, 0]]),\n",
       " 'edge_index': tensor([[0, 1, 1, 2],\n",
       "         [1, 0, 2, 1]]),\n",
       " 's': tensor([[1., 0.],\n",
       "         [0., 1.],\n",
       "         [1., 0.]]),\n",
       " '-': tensor([[0., 1., 0.],\n",
       "         [1., 0., 1.],\n",
       "         [0., 1., 0.]]),\n",
       " 'laplacian': tensor(indices=tensor([[0, 0, 1, 1, 1, 2, 2],\n",
       "                        [0, 1, 0, 1, 2, 1, 2]]),\n",
       "        values=tensor([0.5000, 0.4082, 0.4082, 0.3333, 0.4082, 0.4082, 0.5000]),\n",
       "        size=(3, 3), nnz=7, layout=torch.sparse_coo)}"
      ]
     },
     "execution_count": 37,
     "metadata": {},
     "output_type": "execute_result"
    }
   ],
   "source": [
    "out"
   ]
  },
  {
   "cell_type": "code",
   "execution_count": 38,
   "metadata": {},
   "outputs": [
    {
     "data": {
      "text/plain": [
       "torch.Size([3, 4])"
      ]
     },
     "execution_count": 38,
     "metadata": {},
     "output_type": "execute_result"
    }
   ],
   "source": [
    "out['x'].shape"
   ]
  },
  {
   "cell_type": "markdown",
   "metadata": {},
   "source": [
    "#### Encoder and decoder"
   ]
  },
  {
   "cell_type": "code",
   "execution_count": 39,
   "metadata": {},
   "outputs": [],
   "source": [
    "graph_encoder = GraphEncoder(hidden_features=2, num_blocks=2, num_clusters=[2,1])\n",
    "graph_encoder = graph_encoder.build()"
   ]
  },
  {
   "cell_type": "code",
   "execution_count": 40,
   "metadata": {},
   "outputs": [],
   "source": [
    "inp = {}\n",
    "inp[\"x\"] = torch.randn(4, 2)\n",
    "inp[\"batch\"] = torch.zeros(4, dtype=int)\n",
    "inp[\"edge_index\"] = torch.tensor([[0, 1, 1, 2, 1, 3], [1, 0, 2, 1, 3, 1]])\n",
    "inp[\"edge_attr\"] = torch.randn(6, 1)\n",
    "out = graph_encoder(inp)"
   ]
  },
  {
   "cell_type": "code",
   "execution_count": 41,
   "metadata": {},
   "outputs": [
    {
     "data": {
      "text/plain": [
       "2"
      ]
     },
     "execution_count": 41,
     "metadata": {},
     "output_type": "execute_result"
    }
   ],
   "source": [
    "len(graph_encoder.blocks)"
   ]
  },
  {
   "cell_type": "code",
   "execution_count": 42,
   "metadata": {},
   "outputs": [
    {
     "data": {
      "text/plain": [
       "{'x': tensor([[0.8827, 0.0000]], grad_fn=<MmBackward0>),\n",
       " 'batch': tensor([0, 0, 0, 0]),\n",
       " 'edge_index': tensor([[0, 1, 1, 2, 1, 3],\n",
       "         [1, 0, 2, 1, 3, 1]]),\n",
       " 'edge_attr': tensor([[0.0046, 0.0058],\n",
       "         [0.5006, 0.0829],\n",
       "         [0.3284, 0.0937],\n",
       "         [0.1720, 0.0512],\n",
       "         [0.3950, 0.0706],\n",
       "         [0.5021, 0.0839]], grad_fn=<ReluBackward0>),\n",
       " 'aggregate': tensor([[0.5006, 0.0829],\n",
       "         [0.6788, 0.1409],\n",
       "         [0.3284, 0.0937],\n",
       "         [0.3950, 0.0706]], grad_fn=<ScatterAddBackward0>),\n",
       " 'laplacian': tensor(indices=tensor([[0, 0, 1, 1],\n",
       "                        [0, 1, 0, 1]]),\n",
       "        values=tensor([0.5000, 0.5000, 0.5000, 0.5000]),\n",
       "        size=(2, 2), nnz=4, layout=torch.sparse_coo),\n",
       " 's_0': tensor([[0.4963, 0.5037],\n",
       "         [0.4963, 0.5037],\n",
       "         [0.4963, 0.5037],\n",
       "         [0.4963, 0.5037]], grad_fn=<ViewBackward0>),\n",
       " 'batch_1': tensor([0, 0]),\n",
       " 'L_cut_0': tensor(-1., grad_fn=<DivBackward0>),\n",
       " 'L_ortho_0': tensor(0.7654, grad_fn=<LinalgVectorNormBackward0>),\n",
       " 'edge_index_1': tensor(indices=tensor([[0, 1],\n",
       "                        [1, 0]]),\n",
       "        values=tensor([0.1442, 0.1442]),\n",
       "        size=(2, 2), nnz=2, layout=torch.sparse_coo, grad_fn=<ToSparseBackward1>),\n",
       " 's_1': tensor([[1.],\n",
       "         [1.]]),\n",
       " 'batch_2': tensor([0])}"
      ]
     },
     "execution_count": 42,
     "metadata": {},
     "output_type": "execute_result"
    }
   ],
   "source": [
    "out"
   ]
  },
  {
   "cell_type": "code",
   "execution_count": 43,
   "metadata": {},
   "outputs": [
    {
     "data": {
      "text/plain": [
       "torch.Size([2, 2])"
      ]
     },
     "execution_count": 43,
     "metadata": {},
     "output_type": "execute_result"
    }
   ],
   "source": [
    "out['edge_index_1'].shape"
   ]
  },
  {
   "cell_type": "code",
   "execution_count": 44,
   "metadata": {},
   "outputs": [
    {
     "name": "stdout",
     "output_type": "stream",
     "text": [
      "2\n"
     ]
    }
   ],
   "source": [
    "graph_decoder = GraphDecoder(hidden_features=2, num_blocks=2, output_node_dim=2, output_edge_dim=1)\n",
    "graph_decoder = graph_decoder.build()\n",
    "\n",
    "print(len(graph_decoder.blocks))\n",
    "\n",
    "inp = {}\n",
    "inp[\"x\"] = torch.randn(1, 2)\n",
    "inp[\"batch\"] = torch.zeros(1, dtype=int)\n",
    "inp[\"edge_index_1\"] = torch.tensor([[0, 1], [1, 0]])\n",
    "inp[\"edge_index\"] = torch.tensor([[0, 1, 1, 2, 1, 3], [1, 0, 2, 1, 3, 1]])\n",
    "inp['s_1'] = torch.ones((2,1))\n",
    "inp['s_0'] = torch.tensor([[1.0, 0], [0, 1.0], [0, 1.0], [1.0, 0]])\n",
    "out = graph_decoder(inp)"
   ]
  },
  {
   "cell_type": "code",
   "execution_count": 45,
   "metadata": {},
   "outputs": [
    {
     "data": {
      "text/plain": [
       "tensor([[0.5838],\n",
       "        [0.5838],\n",
       "        [0.5838],\n",
       "        [0.5838],\n",
       "        [0.5838],\n",
       "        [0.5838]], grad_fn=<AddmmBackward0>)"
      ]
     },
     "execution_count": 45,
     "metadata": {},
     "output_type": "execute_result"
    }
   ],
   "source": [
    "out['edge_attr']"
   ]
  },
  {
   "cell_type": "code",
   "execution_count": null,
   "metadata": {},
   "outputs": [],
   "source": []
  }
 ],
 "metadata": {
  "kernelspec": {
   "display_name": "Python 3",
   "language": "python",
   "name": "python3"
  },
  "language_info": {
   "codemirror_mode": {
    "name": "ipython",
    "version": 3
   },
   "file_extension": ".py",
   "mimetype": "text/x-python",
   "name": "python",
   "nbconvert_exporter": "python",
   "pygments_lexer": "ipython3",
   "version": "3.11.9"
  }
 },
 "nbformat": 4,
 "nbformat_minor": 2
}
